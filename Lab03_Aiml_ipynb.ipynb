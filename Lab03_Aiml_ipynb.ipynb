{
  "nbformat": 4,
  "nbformat_minor": 0,
  "metadata": {
    "colab": {
      "provenance": [],
      "authorship_tag": "ABX9TyMPUm3i71b7pgAH/a4/bdyR",
      "include_colab_link": true
    },
    "kernelspec": {
      "name": "python3",
      "display_name": "Python 3"
    },
    "language_info": {
      "name": "python"
    }
  },
  "cells": [
    {
      "cell_type": "markdown",
      "metadata": {
        "id": "view-in-github",
        "colab_type": "text"
      },
      "source": [
        "<a href=\"https://colab.research.google.com/github/2303a56152/AIML-2025/blob/main/Lab03_Aiml_ipynb.ipynb\" target=\"_parent\"><img src=\"https://colab.research.google.com/assets/colab-badge.svg\" alt=\"Open In Colab\"/></a>"
      ]
    },
    {
      "cell_type": "code",
      "execution_count": 1,
      "metadata": {
        "id": "6plEsRFPOPj5"
      },
      "outputs": [],
      "source": [
        "from collections import namedtuple,Counter,defaultdict\n",
        "import random\n",
        "import math\n",
        "import functools\n",
        "cache = functools.lru_cache(10**6)"
      ]
    },
    {
      "cell_type": "code",
      "source": [
        "class Game:\n",
        "  \"\"\"this game is\"\"\"\n",
        "  def actions(self,state):\n",
        "    raise NotImplementedError\n",
        "  def result(self,state,move):\n",
        "    raise NotImplementedError\n",
        "  def is_terminal(self,state):\n",
        "    raise not self.actions(state)\n",
        "  def utility(self,state,player):\n",
        "    raise NotImplementedEror"
      ],
      "metadata": {
        "id": "uUhrfIaVPaYT"
      },
      "execution_count": 2,
      "outputs": []
    },
    {
      "cell_type": "code",
      "source": [
        "def play_game(game,strategies:dict,verdose=False):\n",
        "  state=game.Initial\n",
        "  while not game.is_terminal(state):\n",
        "    player=state.to_move\n",
        "    move=stragies[player] (game,state)\n",
        "    state=game.result(state,move)\n",
        "    if verbose:\n",
        "      print('player','player','move:',move)\n",
        "      print(state)\n",
        "      return state"
      ],
      "metadata": {
        "id": "gteRyUutR9Xz"
      },
      "execution_count": 3,
      "outputs": []
    },
    {
      "cell_type": "markdown",
      "source": [
        "part-2"
      ],
      "metadata": {
        "id": "mXW6sYgHUi8y"
      }
    },
    {
      "cell_type": "code",
      "source": [
        "from re import A\n",
        "def minimax_search(game,state):\n",
        "  player=state.to_move\n",
        "  def max_value(state):\n",
        "    if game.is_terminal(state):\n",
        "      return game.utility(state,player),None\n",
        "      V,move=-inifinity,None\n",
        "      for a in game.actions(state):\n",
        "        V2_min_value(game,result(state,a))\n",
        "        if V2>V:\n",
        "          V.move-V2,a\n",
        "             return V,move\n",
        "          def min_value(state):\n",
        "            if game.is_terminal(state):\n",
        "              return game.utility(state,player),None\n",
        "              V,move=+inifinity,None\n",
        "              for a in game.actions(state):\n",
        "                V2,_=max_value(game.result(state,a))\n",
        "                if V2>V:\n",
        "                  V,move=V2,A\n",
        "                  return v,move\n",
        "                return max_value(state)\n",
        "                infinity=math.inf"
      ],
      "metadata": {
        "id": "QAYYod4tUmDx",
        "colab": {
          "base_uri": "https://localhost:8080/",
          "height": 106
        },
        "outputId": "4f87a753-a53a-4a1c-c944-f0b308a8b4a5"
      },
      "execution_count": 4,
      "outputs": [
        {
          "output_type": "error",
          "ename": "IndentationError",
          "evalue": "unexpected indent (<ipython-input-4-9117ec2f3bd6>, line 12)",
          "traceback": [
            "\u001b[0;36m  File \u001b[0;32m\"<ipython-input-4-9117ec2f3bd6>\"\u001b[0;36m, line \u001b[0;32m12\u001b[0m\n\u001b[0;31m    return V,move\u001b[0m\n\u001b[0m    ^\u001b[0m\n\u001b[0;31mIndentationError\u001b[0m\u001b[0;31m:\u001b[0m unexpected indent\n"
          ]
        }
      ]
    },
    {
      "cell_type": "markdown",
      "source": [
        "part-3"
      ],
      "metadata": {
        "id": "DEj8-h9iarYJ"
      }
    },
    {
      "cell_type": "code",
      "source": [],
      "metadata": {
        "id": "IhFM3O31a9yA"
      },
      "execution_count": null,
      "outputs": []
    }
  ]
}