{
  "nbformat": 4,
  "nbformat_minor": 0,
  "metadata": {
    "colab": {
      "provenance": [],
      "authorship_tag": "ABX9TyM5J+h9hyReXKA3kvwRKlu1",
      "include_colab_link": true
    },
    "kernelspec": {
      "name": "python3",
      "display_name": "Python 3"
    },
    "language_info": {
      "name": "python"
    }
  },
  "cells": [
    {
      "cell_type": "markdown",
      "metadata": {
        "id": "view-in-github",
        "colab_type": "text"
      },
      "source": [
        "<a href=\"https://colab.research.google.com/github/2303a56152/AIML-2025/blob/main/2303a51652_batch_09.ipynb\" target=\"_parent\"><img src=\"https://colab.research.google.com/assets/colab-badge.svg\" alt=\"Open In Colab\"/></a>"
      ]
    },
    {
      "cell_type": "markdown",
      "source": [
        "Prediction of News Popularity in Social Media Platforms\n",
        "\n",
        "Q1.Identify the max and min popularities of news among the social platforms?\n",
        "\n",
        "Q2. Identify the date and time when news popularity was the most?\n",
        "\n",
        "Q3. Predict the social media platform with most popularity?\n",
        "\n",
        "Q4. What types of news items is suitable and not suitable for social media?\n",
        "\n",
        "Q5. Does news contribute to increase or decrease of social media popularity\n",
        "\n"
      ],
      "metadata": {
        "id": "F0-8PSXd5-KB"
      }
    },
    {
      "cell_type": "code",
      "source": [
        "import pandas as pd\n",
        "data = {\n",
        "    'Platform': ['Facebook', 'Twitter', 'Instagram', 'LinkedIn', 'Reddit'],\n",
        "    'Likes': [1200, 950, 2000, 300, 450],\n",
        "    'Shares': [150, 250, 300, 20, 50],\n",
        "    'Comments': [80, 120, 150, 10, 40]\n",
        "}\n",
        "df = pd.DataFrame(data)\n",
        "df['Total_Engagement'] = df['Likes'] + df['Shares'] + df['Comments']\n",
        "max_popularity = df.loc[df['Total_Engagement'].idxmax()]\n",
        "min_popularity = df.loc[df['Total_Engagement'].idxmin()]\n",
        "\n",
        "print(\"Platform with maximum popularity:\")\n",
        "print(max_popularity)\n",
        "\n",
        "print(\"\\nPlatform with minimum popularity:\")\n",
        "print(min_popularity)\n"
      ],
      "metadata": {
        "colab": {
          "base_uri": "https://localhost:8080/"
        },
        "id": "x0NDlkfxBxG1",
        "outputId": "1620a52e-a583-4206-f16c-6e4e92436fce"
      },
      "execution_count": null,
      "outputs": [
        {
          "output_type": "stream",
          "name": "stdout",
          "text": [
            "Platform with maximum popularity:\n",
            "Platform            Instagram\n",
            "Likes                    2000\n",
            "Shares                    300\n",
            "Comments                  150\n",
            "Total_Engagement         2450\n",
            "Name: 2, dtype: object\n",
            "\n",
            "Platform with minimum popularity:\n",
            "Platform            LinkedIn\n",
            "Likes                    300\n",
            "Shares                    20\n",
            "Comments                  10\n",
            "Total_Engagement         330\n",
            "Name: 3, dtype: object\n"
          ]
        }
      ]
    },
    {
      "cell_type": "code",
      "source": [
        "import pandas as pd\n",
        "\n",
        "data = {\n",
        "    'Platform': ['Facebook', 'Twitter', 'Instagram', 'LinkedIn', 'Reddit'],\n",
        "    'Likes': [1200, 950, 2000, 300, 450],\n",
        "    'Shares': [150, 250, 300, 20, 50],\n",
        "    'Comments': [80, 120, 150, 10, 40],\n",
        "    'Timestamp': ['2024-11-24 08:00:00', '2024-11-24 09:00:00', '2024-11-24 10:00:00', '2024-11-24 11:00:00', '2024-11-24 12:00:00']\n",
        "}\n",
        "\n",
        "df = pd.DataFrame(data)\n",
        "\n",
        "df['Timestamp'] = pd.to_datetime(df['Timestamp'])\n",
        "\n",
        "df['Total_Engagement'] = df['Likes'] + df['Shares'] + df['Comments']\n",
        "\n",
        "max_popularity_row = df.loc[df['Total_Engagement'].idxmax()]\n",
        "\n",
        "max_popularity_time = max_popularity_row['Timestamp']\n",
        "\n",
        "print(\"Date and time of maximum popularity:\")\n",
        "print(max_popularity_time)\n"
      ],
      "metadata": {
        "colab": {
          "base_uri": "https://localhost:8080/"
        },
        "id": "jrh17rG8B7Qw",
        "outputId": "306e78fd-934a-406c-af76-a2eca0cdf0ae"
      },
      "execution_count": null,
      "outputs": [
        {
          "output_type": "stream",
          "name": "stdout",
          "text": [
            "Date and time of maximum popularity:\n",
            "2024-11-24 10:00:00\n"
          ]
        }
      ]
    },
    {
      "cell_type": "code",
      "source": [
        "import pandas as pd\n",
        "from sklearn.model_selection import train_test_split\n",
        "from sklearn.linear_model import LinearRegression\n",
        "from sklearn.metrics import mean_squared_error\n",
        "\n",
        "data = {\n",
        "    'Platform': ['Facebook', 'Twitter', 'Instagram', 'LinkedIn', 'Reddit'],\n",
        "    'Likes': [1200, 950, 2000, 300, 450],\n",
        "    'Shares': [150, 250, 300, 20, 50],\n",
        "    'Comments': [80, 120, 150, 10, 40],\n",
        "    'Engagement': [1430, 1320, 2450, 330, 540]  # Sum of Likes, Shares, and Comments\n",
        "}\n",
        "\n",
        "df = pd.DataFrame(data)\n",
        "df = pd.get_dummies(df, columns=['Platform'], drop_first=True)\n",
        "\n",
        "X = df.drop(columns=['Engagement'])\n",
        "y = df['Engagement']\n",
        "\n",
        "X_train, X_test, y_train, y_test = train_test_split(X, y, test_size=0.2, random_state=42)\n",
        "\n",
        "# Train a linear regression model\n",
        "model = LinearRegression()\n",
        "model.fit(X_train, y_train)\n",
        "\n",
        "# Predict engagement for the test set\n",
        "y_pred = model.predict(X_test)\n",
        "\n",
        "# Evaluate the model\n",
        "mse = mean_squared_error(y_test, y_pred)\n",
        "print(f\"Mean Squared Error: {mse}\")\n",
        "\n",
        "# Use the model to predict the most popular platform\n",
        "predictions = model.predict(X)\n",
        "df['Predicted_Engagement'] = predictions\n",
        "most_popular_platform = df.loc[df['Predicted_Engagement'].idxmax()]\n",
        "\n",
        "print(\"\\nPlatform predicted to have the highest popularity:\")\n",
        "print(most_popular_platform)\n"
      ],
      "metadata": {
        "colab": {
          "base_uri": "https://localhost:8080/"
        },
        "id": "ur8d4MGzCais",
        "outputId": "74b67200-dedc-4559-86ad-2029f0217b5e"
      },
      "execution_count": null,
      "outputs": [
        {
          "output_type": "stream",
          "name": "stdout",
          "text": [
            "Mean Squared Error: 0.006030975461064749\n",
            "\n",
            "Platform predicted to have the highest popularity:\n",
            "Likes                     2000\n",
            "Shares                     300\n",
            "Comments                   150\n",
            "Engagement                2450\n",
            "Platform_Instagram        True\n",
            "Platform_LinkedIn        False\n",
            "Platform_Reddit          False\n",
            "Platform_Twitter         False\n",
            "Predicted_Engagement    2450.0\n",
            "Name: 2, dtype: object\n"
          ]
        }
      ]
    },
    {
      "cell_type": "code",
      "source": [
        "import pandas as pd\n",
        "\n",
        "# Example dataset with news headlines and descriptions\n",
        "data = {\n",
        "    \"Headline\": [\n",
        "        \"Earthquake hits Turkey, rescue efforts underway\",\n",
        "        \"Aliens have landed in New York (unverified claim)\",\n",
        "        \"A 10-year-old raises $50,000 for cancer research\",\n",
        "        \"Comprehensive 200-page report on quantum computing\",\n",
        "        \"Graphic footage of war casualties released\"\n",
        "    ],\n",
        "    \"Description\": [\n",
        "        \"A devastating earthquake has caused significant damage.\",\n",
        "        \"Social media is buzzing with unverified alien reports.\",\n",
        "        \"An inspiring story of a young boy's dedication.\",\n",
        "        \"Detailed analysis of quantum computing advancements.\",\n",
        "        \"Footage from the battlefield has sparked controversy.\"\n",
        "    ]\n",
        "}\n",
        "\n",
        "# Keywords for categorizing news\n",
        "suitable_keywords = [\"breaking\", \"inspiring\", \"heartwarming\", \"urgent\", \"positive\", \"shareable\"]\n",
        "not_suitable_keywords = [\"unverified\", \"fake\", \"graphic\", \"complex\", \"polarizing\", \"clickbait\"]\n",
        "\n",
        "# Create a DataFrame\n",
        "df = pd.DataFrame(data)\n",
        "\n",
        "# Function to categorize news items\n",
        "def categorize_news(headline, description):\n",
        "    text = headline.lower() + \" \" + description.lower()\n",
        "    if any(keyword in text for keyword in suitable_keywords):\n",
        "        return \"Suitable\"\n",
        "    elif any(keyword in text for keyword in not_suitable_keywords):\n",
        "        return \"Not Suitable\"\n",
        "    else:\n",
        "        return \"Neutral\"\n",
        "\n",
        "# Apply categorization\n",
        "df[\"Category\"] = df.apply(lambda row: categorize_news(row[\"Headline\"], row[\"Description\"]), axis=1)\n",
        "\n",
        "# Output the categorized DataFrame\n",
        "print(df)\n"
      ],
      "metadata": {
        "colab": {
          "base_uri": "https://localhost:8080/"
        },
        "id": "NsXDRLpGC8Op",
        "outputId": "42378590-c8c5-45b9-d370-8ab1ef555c9f"
      },
      "execution_count": null,
      "outputs": [
        {
          "output_type": "stream",
          "name": "stdout",
          "text": [
            "                                            Headline  \\\n",
            "0    Earthquake hits Turkey, rescue efforts underway   \n",
            "1  Aliens have landed in New York (unverified claim)   \n",
            "2   A 10-year-old raises $50,000 for cancer research   \n",
            "3  Comprehensive 200-page report on quantum compu...   \n",
            "4         Graphic footage of war casualties released   \n",
            "\n",
            "                                         Description      Category  \n",
            "0  A devastating earthquake has caused significan...       Neutral  \n",
            "1  Social media is buzzing with unverified alien ...  Not Suitable  \n",
            "2    An inspiring story of a young boy's dedication.      Suitable  \n",
            "3  Detailed analysis of quantum computing advance...       Neutral  \n",
            "4  Footage from the battlefield has sparked contr...  Not Suitable  \n"
          ]
        }
      ]
    },
    {
      "source": [
        "!pip install vaderSentiment"
      ],
      "cell_type": "code",
      "metadata": {
        "colab": {
          "base_uri": "https://localhost:8080/"
        },
        "id": "ioSpBnjODy93",
        "outputId": "cc14aa6d-c315-4ed9-cb2f-d75f4bacd7f7"
      },
      "execution_count": null,
      "outputs": [
        {
          "output_type": "stream",
          "name": "stdout",
          "text": [
            "Collecting vaderSentiment\n",
            "  Downloading vaderSentiment-3.3.2-py2.py3-none-any.whl.metadata (572 bytes)\n",
            "Requirement already satisfied: requests in /usr/local/lib/python3.10/dist-packages (from vaderSentiment) (2.32.3)\n",
            "Requirement already satisfied: charset-normalizer<4,>=2 in /usr/local/lib/python3.10/dist-packages (from requests->vaderSentiment) (3.4.0)\n",
            "Requirement already satisfied: idna<4,>=2.5 in /usr/local/lib/python3.10/dist-packages (from requests->vaderSentiment) (3.10)\n",
            "Requirement already satisfied: urllib3<3,>=1.21.1 in /usr/local/lib/python3.10/dist-packages (from requests->vaderSentiment) (2.2.3)\n",
            "Requirement already satisfied: certifi>=2017.4.17 in /usr/local/lib/python3.10/dist-packages (from requests->vaderSentiment) (2024.8.30)\n",
            "Downloading vaderSentiment-3.3.2-py2.py3-none-any.whl (125 kB)\n",
            "\u001b[?25l   \u001b[90m━━━━━━━━━━━━━━━━━━━━━━━━━━━━━━━━━━━━━━━━\u001b[0m \u001b[32m0.0/126.0 kB\u001b[0m \u001b[31m?\u001b[0m eta \u001b[36m-:--:--\u001b[0m\r\u001b[2K   \u001b[91m━━━━━━━━━━━━━━━━━━━━━━━━━━━━━━━━━━━━━━━\u001b[0m\u001b[90m╺\u001b[0m \u001b[32m122.9/126.0 kB\u001b[0m \u001b[31m4.3 MB/s\u001b[0m eta \u001b[36m0:00:01\u001b[0m\r\u001b[2K   \u001b[90m━━━━━━━━━━━━━━━━━━━━━━━━━━━━━━━━━━━━━━━━\u001b[0m \u001b[32m126.0/126.0 kB\u001b[0m \u001b[31m3.2 MB/s\u001b[0m eta \u001b[36m0:00:00\u001b[0m\n",
            "\u001b[?25hInstalling collected packages: vaderSentiment\n",
            "Successfully installed vaderSentiment-3.3.2\n"
          ]
        }
      ]
    },
    {
      "source": [
        "!pip install vaderSentiment # Install the vaderSentiment package\n",
        "\n",
        "import pandas as pd\n",
        "from vaderSentiment.vaderSentiment import SentimentIntensityAnalyzer\n",
        "\n",
        "# Example dataset with news headlines and social media engagement (e.g., likes, shares)\n",
        "data = {\n",
        "    'Headline': [\n",
        "        \"Earthquake hits Turkey, rescue efforts underway\",\n",
        "        \"Aliens have landed in New York (unverified claim)\",\n",
        "        \"A 10-year-old raises $50,000 for cancer research\",\n",
        "        \"Comprehensive 200-page report on quantum computing\",\n",
        "        \"Graphic footage of war casualties released\"\n",
        "    ],\n",
        "    'Social_Media_Engagement': [1200, 50, 2500, 300, 100]  # Example social media engagement (likes, shares)\n",
        "}\n",
        "\n",
        "# Create a DataFrame\n",
        "df = pd.DataFrame(data)\n",
        "\n",
        "# Initialize Sentiment Analyzer\n",
        "analyzer = SentimentIntensityAnalyzer()\n",
        "\n",
        "# Function to analyze sentiment of news headline\n",
        "def analyze_sentiment(headline):\n",
        "    sentiment = analyzer.polarity_scores(headline)\n",
        "    return sentiment['compound']  # Compound score (positive/negative/neutral)\n",
        "\n",
        "# Apply sentiment analysis to headlines\n",
        "df['Sentiment'] = df['Headline'].apply(analyze_sentiment)\n",
        "\n",
        "# Determine if news contributes to the increase or decrease of popularity\n",
        "def determine_popularity_change(row):\n",
        "    if row['Sentiment'] > 0 and row['Social_Media_Engagement'] > 500:\n",
        "        return \"Increase Popularity\"\n",
        "    elif row['Sentiment'] < 0 and row['Social_Media_Engagement'] < 500:\n",
        "        return \"Decrease Popularity\"\n",
        "    elif row['Sentiment'] == 0:\n",
        "        return \"Neutral Impact\"\n",
        "    else:\n",
        "        return \"Neutral Impact\"\n",
        "\n",
        "# Apply popularity determination\n",
        "df['Popularity_Impact'] = df.apply(determine_popularity_change, axis=1)\n",
        "\n",
        "# Show the results\n",
        "print(df[['Headline', 'Sentiment', 'Social_Media_Engagement', 'Popularity_Impact']])"
      ],
      "cell_type": "code",
      "metadata": {
        "colab": {
          "base_uri": "https://localhost:8080/"
        },
        "id": "mR23JRteD2Jt",
        "outputId": "2491bf7d-b8f9-4ec5-be6b-0fcb62bc99e4"
      },
      "execution_count": null,
      "outputs": [
        {
          "output_type": "stream",
          "name": "stdout",
          "text": [
            "Requirement already satisfied: vaderSentiment in /usr/local/lib/python3.10/dist-packages (3.3.2)\n",
            "Requirement already satisfied: requests in /usr/local/lib/python3.10/dist-packages (from vaderSentiment) (2.32.3)\n",
            "Requirement already satisfied: charset-normalizer<4,>=2 in /usr/local/lib/python3.10/dist-packages (from requests->vaderSentiment) (3.4.0)\n",
            "Requirement already satisfied: idna<4,>=2.5 in /usr/local/lib/python3.10/dist-packages (from requests->vaderSentiment) (3.10)\n",
            "Requirement already satisfied: urllib3<3,>=1.21.1 in /usr/local/lib/python3.10/dist-packages (from requests->vaderSentiment) (2.2.3)\n",
            "Requirement already satisfied: certifi>=2017.4.17 in /usr/local/lib/python3.10/dist-packages (from requests->vaderSentiment) (2024.8.30)\n",
            "                                            Headline  Sentiment  \\\n",
            "0    Earthquake hits Turkey, rescue efforts underway     0.5106   \n",
            "1  Aliens have landed in New York (unverified claim)     0.0000   \n",
            "2   A 10-year-old raises $50,000 for cancer research    -0.6597   \n",
            "3  Comprehensive 200-page report on quantum compu...     0.2500   \n",
            "4         Graphic footage of war casualties released    -0.5994   \n",
            "\n",
            "   Social_Media_Engagement    Popularity_Impact  \n",
            "0                     1200  Increase Popularity  \n",
            "1                       50       Neutral Impact  \n",
            "2                     2500       Neutral Impact  \n",
            "3                      300       Neutral Impact  \n",
            "4                      100  Decrease Popularity  \n"
          ]
        }
      ]
    }
  ]
}